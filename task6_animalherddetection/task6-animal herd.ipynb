{
 "cells": [
  {
   "cell_type": "code",
   "execution_count": 1,
   "id": "5f2715e0",
   "metadata": {},
   "outputs": [
    {
     "name": "stderr",
     "output_type": "stream",
     "text": [
      "<>:51: SyntaxWarning: invalid escape sequence '\\s'\n",
      "<>:51: SyntaxWarning: invalid escape sequence '\\s'\n",
      "C:\\Users\\Junaid\\AppData\\Local\\Temp\\ipykernel_13888\\3326259823.py:51: SyntaxWarning: invalid escape sequence '\\s'\n",
      "  detect_animals('D:\\superior\\semester_4th\\PAI LAB\\goat.jpg')\n",
      "C:\\Users\\Junaid\\AppData\\Local\\Temp\\ipykernel_13888\\3326259823.py:51: SyntaxWarning: invalid escape sequence '\\s'\n",
      "  detect_animals('D:\\superior\\semester_4th\\PAI LAB\\goat.jpg')\n"
     ]
    },
    {
     "ename": "ModuleNotFoundError",
     "evalue": "No module named 'torch'",
     "output_type": "error",
     "traceback": [
      "\u001b[31m---------------------------------------------------------------------------\u001b[39m",
      "\u001b[31mModuleNotFoundError\u001b[39m                       Traceback (most recent call last)",
      "\u001b[36mCell\u001b[39m\u001b[36m \u001b[39m\u001b[32mIn[1]\u001b[39m\u001b[32m, line 1\u001b[39m\n\u001b[32m----> \u001b[39m\u001b[32m1\u001b[39m \u001b[38;5;28;01mimport\u001b[39;00m\u001b[38;5;250m \u001b[39m\u001b[34;01mtorch\u001b[39;00m\n\u001b[32m      2\u001b[39m \u001b[38;5;28;01mfrom\u001b[39;00m\u001b[38;5;250m \u001b[39m\u001b[34;01mtorchvision\u001b[39;00m\u001b[38;5;250m \u001b[39m\u001b[38;5;28;01mimport\u001b[39;00m models, transforms\n\u001b[32m      3\u001b[39m \u001b[38;5;28;01mimport\u001b[39;00m\u001b[38;5;250m \u001b[39m\u001b[34;01mcv2\u001b[39;00m\n",
      "\u001b[31mModuleNotFoundError\u001b[39m: No module named 'torch'"
     ]
    }
   ],
   "source": [
    "import torch\n",
    "from torchvision import models, transforms\n",
    "import cv2\n",
    "import numpy as np\n",
    "\n",
    "# Load a pre-trained Faster R-CNN model\n",
    "model = models.detection.fasterrcnn_resnet50_fpn(pretrained=True)\n",
    "model.eval()\n",
    "\n",
    "# Define a transform to normalize the images\n",
    "transform = transforms.Compose([\n",
    "    transforms.ToTensor(),\n",
    "])\n",
    "\n",
    "# Function to perform object detection\n",
    "def detect_animals(image_path):\n",
    "    # Read the image\n",
    "    img = cv2.imread(image_path)\n",
    "    \n",
    "    # Convert the image to RGB (as OpenCV loads in BGR)\n",
    "    img_rgb = cv2.cvtColor(img, cv2.COLOR_BGR2RGB)\n",
    "    \n",
    "    # Apply the transform\n",
    "    image_tensor = transform(img_rgb).unsqueeze(0)  # Add batch dimension\n",
    "    \n",
    "    # Perform inference\n",
    "    with torch.no_grad():\n",
    "        predictions = model(image_tensor)\n",
    "    \n",
    "    # Extract bounding boxes, labels, and scores\n",
    "    boxes = predictions[0]['boxes'].numpy()\n",
    "    labels = predictions[0]['labels'].numpy()\n",
    "    scores = predictions[0]['scores'].numpy()\n",
    "    \n",
    "    # Filter predictions by confidence threshold\n",
    "    threshold = 0.5\n",
    "    valid_boxes = boxes[scores >= threshold]\n",
    "    valid_labels = labels[scores >= threshold]\n",
    "    \n",
    "    # Draw bounding boxes\n",
    "    for box in valid_boxes:\n",
    "        x1, y1, x2, y2 = map(int, box)\n",
    "        cv2.rectangle(img, (x1, y1), (x2, y2), (0, 255, 0), 2)\n",
    "    \n",
    "    # Display the image with bounding boxes\n",
    "    cv2.imshow(\"Detected Animals\", img)\n",
    "    cv2.waitKey(0)\n",
    "    cv2.destroyAllWindows()\n",
    "\n",
    "# Test the function with an image path\n",
    "detect_animals('D:\\superior\\semester_4th\\PAI LAB\\goat.jpg')\n"
   ]
  },
  {
   "cell_type": "code",
   "execution_count": null,
   "id": "b775b819",
   "metadata": {},
   "outputs": [
    {
     "name": "stdout",
     "output_type": "stream",
     "text": [
      "Detected Herds: [[0, 2], [1]]\n"
     ]
    }
   ],
   "source": [
    "import numpy as np\n",
    "from scipy.spatial.distance import cdist\n",
    "\n",
    "def group_herds(bounding_boxes, distance_threshold=50):\n",
    "    \"\"\"\n",
    "    Groups animals into herds based on proximity using the Euclidean distance.\n",
    "    \"\"\"\n",
    "    # Extract the center points of each bounding box\n",
    "    centers = np.array([[(box[0] + box[2]) / 2, (box[1] + box[3]) / 2] for box in bounding_boxes])\n",
    "    \n",
    "    # Compute pairwise distances between center points\n",
    "    distances = cdist(centers, centers)\n",
    "    \n",
    "    # Create herds based on distance threshold\n",
    "    herds = []\n",
    "    visited = set()\n",
    "    \n",
    "    for i in range(len(centers)):\n",
    "        if i not in visited:\n",
    "            herd = [i]\n",
    "            visited.add(i)\n",
    "            for j in range(i+1, len(centers)):\n",
    "                if distances[i, j] < distance_threshold:\n",
    "                    herd.append(j)\n",
    "                    visited.add(j)\n",
    "            herds.append(herd)\n",
    "    \n",
    "    return herds\n",
    "\n",
    "# Example usage with detected bounding boxes\n",
    "bounding_boxes = [(50, 50, 150, 150), (200, 200, 300, 300), (60, 60, 160, 160)]\n",
    "herds = group_herds(bounding_boxes)\n",
    "\n",
    "print(\"Detected Herds:\", herds)\n"
   ]
  },
  {
   "cell_type": "code",
   "execution_count": 10,
   "id": "2baf9bdb",
   "metadata": {},
   "outputs": [
    {
     "name": "stdout",
     "output_type": "stream",
     "text": [
      "Herd detected at: [37.7749, -122.4194]\n"
     ]
    }
   ],
   "source": [
    "import folium\n",
    "\n",
    "# Example coordinates (you should use actual GPS coordinates from your application)\n",
    "location_of_herd = [37.7749, -122.4194]  # Lat, Long for San Francisco\n",
    "\n",
    "# Create a map centered on the location\n",
    "mymap = folium.Map(location=location_of_herd, zoom_start=12)\n",
    "\n",
    "# Add a marker for the herd location\n",
    "folium.Marker(\n",
    "    location_of_herd,\n",
    "    popup=\"Herd detected!\",\n",
    "    icon=folium.Icon(color='red', icon='info-sign')\n",
    ").add_to(mymap)\n",
    "\n",
    "# Save the map as an HTML file\n",
    "mymap.save(\"herd_detection_map.html\")\n",
    "\n",
    "# Display a message if herd is detected\n",
    "print(\"Herd detected at:\", location_of_herd)\n"
   ]
  }
 ],
 "metadata": {
  "kernelspec": {
   "display_name": "Python 3",
   "language": "python",
   "name": "python3"
  },
  "language_info": {
   "codemirror_mode": {
    "name": "ipython",
    "version": 3
   },
   "file_extension": ".py",
   "mimetype": "text/x-python",
   "name": "python",
   "nbconvert_exporter": "python",
   "pygments_lexer": "ipython3",
   "version": "3.12.10"
  }
 },
 "nbformat": 4,
 "nbformat_minor": 5
}
